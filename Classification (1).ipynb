{
 "cells": [
  {
   "cell_type": "code",
   "execution_count": 1,
   "metadata": {
    "id": "F0I21aJIGoSo"
   },
   "outputs": [],
   "source": [
    "import pandas as pd\n",
    "import numpy as np\n",
    "import seaborn as sns\n",
    "import matplotlib.pyplot as plt"
   ]
  },
  {
   "cell_type": "code",
   "execution_count": 2,
   "metadata": {
    "colab": {
     "base_uri": "https://localhost:8080/",
     "height": 424
    },
    "id": "jeBZEAhrHGkx",
    "outputId": "9fd08f73-376a-4e11-c0b4-6c728dddf55b"
   },
   "outputs": [
    {
     "name": "stderr",
     "output_type": "stream",
     "text": [
      "<>:1: SyntaxWarning: invalid escape sequence '\\D'\n",
      "<>:1: SyntaxWarning: invalid escape sequence '\\D'\n",
      "C:\\Users\\PC\\AppData\\Local\\Temp\\ipykernel_10516\\1318863199.py:1: SyntaxWarning: invalid escape sequence '\\D'\n",
      "  df = pd.read_csv('H:\\Data Science\\Data Sets\\diabetes.csv')\n"
     ]
    },
    {
     "data": {
      "text/html": [
       "<div>\n",
       "<style scoped>\n",
       "    .dataframe tbody tr th:only-of-type {\n",
       "        vertical-align: middle;\n",
       "    }\n",
       "\n",
       "    .dataframe tbody tr th {\n",
       "        vertical-align: top;\n",
       "    }\n",
       "\n",
       "    .dataframe thead th {\n",
       "        text-align: right;\n",
       "    }\n",
       "</style>\n",
       "<table border=\"1\" class=\"dataframe\">\n",
       "  <thead>\n",
       "    <tr style=\"text-align: right;\">\n",
       "      <th></th>\n",
       "      <th>Pregnancies</th>\n",
       "      <th>Glucose</th>\n",
       "      <th>BloodPressure</th>\n",
       "      <th>SkinThickness</th>\n",
       "      <th>Insulin</th>\n",
       "      <th>BMI</th>\n",
       "      <th>DiabetesPedigreeFunction</th>\n",
       "      <th>Age</th>\n",
       "      <th>Outcome</th>\n",
       "    </tr>\n",
       "  </thead>\n",
       "  <tbody>\n",
       "    <tr>\n",
       "      <th>0</th>\n",
       "      <td>2</td>\n",
       "      <td>138</td>\n",
       "      <td>62</td>\n",
       "      <td>35</td>\n",
       "      <td>0</td>\n",
       "      <td>33.6</td>\n",
       "      <td>0.127</td>\n",
       "      <td>47</td>\n",
       "      <td>1</td>\n",
       "    </tr>\n",
       "    <tr>\n",
       "      <th>1</th>\n",
       "      <td>0</td>\n",
       "      <td>84</td>\n",
       "      <td>82</td>\n",
       "      <td>31</td>\n",
       "      <td>125</td>\n",
       "      <td>38.2</td>\n",
       "      <td>0.233</td>\n",
       "      <td>23</td>\n",
       "      <td>0</td>\n",
       "    </tr>\n",
       "    <tr>\n",
       "      <th>2</th>\n",
       "      <td>0</td>\n",
       "      <td>145</td>\n",
       "      <td>0</td>\n",
       "      <td>0</td>\n",
       "      <td>0</td>\n",
       "      <td>44.2</td>\n",
       "      <td>0.630</td>\n",
       "      <td>31</td>\n",
       "      <td>1</td>\n",
       "    </tr>\n",
       "    <tr>\n",
       "      <th>3</th>\n",
       "      <td>0</td>\n",
       "      <td>135</td>\n",
       "      <td>68</td>\n",
       "      <td>42</td>\n",
       "      <td>250</td>\n",
       "      <td>42.3</td>\n",
       "      <td>0.365</td>\n",
       "      <td>24</td>\n",
       "      <td>1</td>\n",
       "    </tr>\n",
       "    <tr>\n",
       "      <th>4</th>\n",
       "      <td>1</td>\n",
       "      <td>139</td>\n",
       "      <td>62</td>\n",
       "      <td>41</td>\n",
       "      <td>480</td>\n",
       "      <td>40.7</td>\n",
       "      <td>0.536</td>\n",
       "      <td>21</td>\n",
       "      <td>0</td>\n",
       "    </tr>\n",
       "    <tr>\n",
       "      <th>...</th>\n",
       "      <td>...</td>\n",
       "      <td>...</td>\n",
       "      <td>...</td>\n",
       "      <td>...</td>\n",
       "      <td>...</td>\n",
       "      <td>...</td>\n",
       "      <td>...</td>\n",
       "      <td>...</td>\n",
       "      <td>...</td>\n",
       "    </tr>\n",
       "    <tr>\n",
       "      <th>1995</th>\n",
       "      <td>2</td>\n",
       "      <td>75</td>\n",
       "      <td>64</td>\n",
       "      <td>24</td>\n",
       "      <td>55</td>\n",
       "      <td>29.7</td>\n",
       "      <td>0.370</td>\n",
       "      <td>33</td>\n",
       "      <td>0</td>\n",
       "    </tr>\n",
       "    <tr>\n",
       "      <th>1996</th>\n",
       "      <td>8</td>\n",
       "      <td>179</td>\n",
       "      <td>72</td>\n",
       "      <td>42</td>\n",
       "      <td>130</td>\n",
       "      <td>32.7</td>\n",
       "      <td>0.719</td>\n",
       "      <td>36</td>\n",
       "      <td>1</td>\n",
       "    </tr>\n",
       "    <tr>\n",
       "      <th>1997</th>\n",
       "      <td>6</td>\n",
       "      <td>85</td>\n",
       "      <td>78</td>\n",
       "      <td>0</td>\n",
       "      <td>0</td>\n",
       "      <td>31.2</td>\n",
       "      <td>0.382</td>\n",
       "      <td>42</td>\n",
       "      <td>0</td>\n",
       "    </tr>\n",
       "    <tr>\n",
       "      <th>1998</th>\n",
       "      <td>0</td>\n",
       "      <td>129</td>\n",
       "      <td>110</td>\n",
       "      <td>46</td>\n",
       "      <td>130</td>\n",
       "      <td>67.1</td>\n",
       "      <td>0.319</td>\n",
       "      <td>26</td>\n",
       "      <td>1</td>\n",
       "    </tr>\n",
       "    <tr>\n",
       "      <th>1999</th>\n",
       "      <td>2</td>\n",
       "      <td>81</td>\n",
       "      <td>72</td>\n",
       "      <td>15</td>\n",
       "      <td>76</td>\n",
       "      <td>30.1</td>\n",
       "      <td>0.547</td>\n",
       "      <td>25</td>\n",
       "      <td>0</td>\n",
       "    </tr>\n",
       "  </tbody>\n",
       "</table>\n",
       "<p>2000 rows × 9 columns</p>\n",
       "</div>"
      ],
      "text/plain": [
       "      Pregnancies  Glucose  BloodPressure  SkinThickness  Insulin   BMI  \\\n",
       "0               2      138             62             35        0  33.6   \n",
       "1               0       84             82             31      125  38.2   \n",
       "2               0      145              0              0        0  44.2   \n",
       "3               0      135             68             42      250  42.3   \n",
       "4               1      139             62             41      480  40.7   \n",
       "...           ...      ...            ...            ...      ...   ...   \n",
       "1995            2       75             64             24       55  29.7   \n",
       "1996            8      179             72             42      130  32.7   \n",
       "1997            6       85             78              0        0  31.2   \n",
       "1998            0      129            110             46      130  67.1   \n",
       "1999            2       81             72             15       76  30.1   \n",
       "\n",
       "      DiabetesPedigreeFunction  Age  Outcome  \n",
       "0                        0.127   47        1  \n",
       "1                        0.233   23        0  \n",
       "2                        0.630   31        1  \n",
       "3                        0.365   24        1  \n",
       "4                        0.536   21        0  \n",
       "...                        ...  ...      ...  \n",
       "1995                     0.370   33        0  \n",
       "1996                     0.719   36        1  \n",
       "1997                     0.382   42        0  \n",
       "1998                     0.319   26        1  \n",
       "1999                     0.547   25        0  \n",
       "\n",
       "[2000 rows x 9 columns]"
      ]
     },
     "execution_count": 2,
     "metadata": {},
     "output_type": "execute_result"
    }
   ],
   "source": [
    "df = pd.read_csv('H:\\Data Science\\Data Sets\\diabetes.csv')\n",
    "df"
   ]
  },
  {
   "cell_type": "code",
   "execution_count": 3,
   "metadata": {
    "colab": {
     "base_uri": "https://localhost:8080/",
     "height": 206
    },
    "id": "zxZ7PAfcHECT",
    "outputId": "8b55280c-f51c-4679-96e0-854c986468d5"
   },
   "outputs": [
    {
     "data": {
      "text/html": [
       "<div>\n",
       "<style scoped>\n",
       "    .dataframe tbody tr th:only-of-type {\n",
       "        vertical-align: middle;\n",
       "    }\n",
       "\n",
       "    .dataframe tbody tr th {\n",
       "        vertical-align: top;\n",
       "    }\n",
       "\n",
       "    .dataframe thead th {\n",
       "        text-align: right;\n",
       "    }\n",
       "</style>\n",
       "<table border=\"1\" class=\"dataframe\">\n",
       "  <thead>\n",
       "    <tr style=\"text-align: right;\">\n",
       "      <th></th>\n",
       "      <th>Pregnancies</th>\n",
       "      <th>Glucose</th>\n",
       "      <th>BloodPressure</th>\n",
       "      <th>SkinThickness</th>\n",
       "      <th>Insulin</th>\n",
       "      <th>BMI</th>\n",
       "      <th>DiabetesPedigreeFunction</th>\n",
       "      <th>Age</th>\n",
       "      <th>Outcome</th>\n",
       "    </tr>\n",
       "  </thead>\n",
       "  <tbody>\n",
       "    <tr>\n",
       "      <th>0</th>\n",
       "      <td>2</td>\n",
       "      <td>138</td>\n",
       "      <td>62</td>\n",
       "      <td>35</td>\n",
       "      <td>0</td>\n",
       "      <td>33.6</td>\n",
       "      <td>0.127</td>\n",
       "      <td>47</td>\n",
       "      <td>1</td>\n",
       "    </tr>\n",
       "    <tr>\n",
       "      <th>1</th>\n",
       "      <td>0</td>\n",
       "      <td>84</td>\n",
       "      <td>82</td>\n",
       "      <td>31</td>\n",
       "      <td>125</td>\n",
       "      <td>38.2</td>\n",
       "      <td>0.233</td>\n",
       "      <td>23</td>\n",
       "      <td>0</td>\n",
       "    </tr>\n",
       "    <tr>\n",
       "      <th>2</th>\n",
       "      <td>0</td>\n",
       "      <td>145</td>\n",
       "      <td>0</td>\n",
       "      <td>0</td>\n",
       "      <td>0</td>\n",
       "      <td>44.2</td>\n",
       "      <td>0.630</td>\n",
       "      <td>31</td>\n",
       "      <td>1</td>\n",
       "    </tr>\n",
       "    <tr>\n",
       "      <th>3</th>\n",
       "      <td>0</td>\n",
       "      <td>135</td>\n",
       "      <td>68</td>\n",
       "      <td>42</td>\n",
       "      <td>250</td>\n",
       "      <td>42.3</td>\n",
       "      <td>0.365</td>\n",
       "      <td>24</td>\n",
       "      <td>1</td>\n",
       "    </tr>\n",
       "    <tr>\n",
       "      <th>4</th>\n",
       "      <td>1</td>\n",
       "      <td>139</td>\n",
       "      <td>62</td>\n",
       "      <td>41</td>\n",
       "      <td>480</td>\n",
       "      <td>40.7</td>\n",
       "      <td>0.536</td>\n",
       "      <td>21</td>\n",
       "      <td>0</td>\n",
       "    </tr>\n",
       "  </tbody>\n",
       "</table>\n",
       "</div>"
      ],
      "text/plain": [
       "   Pregnancies  Glucose  BloodPressure  SkinThickness  Insulin   BMI  \\\n",
       "0            2      138             62             35        0  33.6   \n",
       "1            0       84             82             31      125  38.2   \n",
       "2            0      145              0              0        0  44.2   \n",
       "3            0      135             68             42      250  42.3   \n",
       "4            1      139             62             41      480  40.7   \n",
       "\n",
       "   DiabetesPedigreeFunction  Age  Outcome  \n",
       "0                     0.127   47        1  \n",
       "1                     0.233   23        0  \n",
       "2                     0.630   31        1  \n",
       "3                     0.365   24        1  \n",
       "4                     0.536   21        0  "
      ]
     },
     "execution_count": 3,
     "metadata": {},
     "output_type": "execute_result"
    }
   ],
   "source": [
    "df.head()"
   ]
  },
  {
   "cell_type": "code",
   "execution_count": 4,
   "metadata": {
    "colab": {
     "base_uri": "https://localhost:8080/"
    },
    "id": "MeSCWK0BHjF8",
    "outputId": "dfc45f27-bd30-4f58-80c0-03f51fa4ec37"
   },
   "outputs": [
    {
     "name": "stdout",
     "output_type": "stream",
     "text": [
      "<class 'pandas.core.frame.DataFrame'>\n",
      "RangeIndex: 2000 entries, 0 to 1999\n",
      "Data columns (total 9 columns):\n",
      " #   Column                    Non-Null Count  Dtype  \n",
      "---  ------                    --------------  -----  \n",
      " 0   Pregnancies               2000 non-null   int64  \n",
      " 1   Glucose                   2000 non-null   int64  \n",
      " 2   BloodPressure             2000 non-null   int64  \n",
      " 3   SkinThickness             2000 non-null   int64  \n",
      " 4   Insulin                   2000 non-null   int64  \n",
      " 5   BMI                       2000 non-null   float64\n",
      " 6   DiabetesPedigreeFunction  2000 non-null   float64\n",
      " 7   Age                       2000 non-null   int64  \n",
      " 8   Outcome                   2000 non-null   int64  \n",
      "dtypes: float64(2), int64(7)\n",
      "memory usage: 140.8 KB\n"
     ]
    }
   ],
   "source": [
    "df.info()"
   ]
  },
  {
   "cell_type": "code",
   "execution_count": 5,
   "metadata": {
    "colab": {
     "base_uri": "https://localhost:8080/"
    },
    "id": "v2O3zBasHlma",
    "outputId": "8133fdcf-4a3a-473f-c181-e5e180724039"
   },
   "outputs": [
    {
     "data": {
      "text/plain": [
       "1256"
      ]
     },
     "execution_count": 5,
     "metadata": {},
     "output_type": "execute_result"
    }
   ],
   "source": [
    "df.duplicated().sum()"
   ]
  },
  {
   "cell_type": "code",
   "execution_count": 6,
   "metadata": {
    "colab": {
     "base_uri": "https://localhost:8080/"
    },
    "id": "UE1G5lXIHvI4",
    "outputId": "2a9e981e-cf3b-45fd-84ab-0117a129b4b4"
   },
   "outputs": [
    {
     "data": {
      "text/plain": [
       "Pregnancies                   0\n",
       "Glucose                      13\n",
       "BloodPressure                90\n",
       "SkinThickness               573\n",
       "Insulin                     956\n",
       "BMI                          28\n",
       "DiabetesPedigreeFunction      0\n",
       "Age                           0\n",
       "Outcome                       0\n",
       "dtype: int64"
      ]
     },
     "execution_count": 6,
     "metadata": {},
     "output_type": "execute_result"
    }
   ],
   "source": [
    "df1 = df.copy(deep=True)\n",
    "df1[['Glucose','BloodPressure','SkinThickness','Insulin','BMI']] = df1[['Glucose','BloodPressure','SkinThickness','Insulin','BMI']].replace(0,np.NaN)\n",
    "df1.isnull().sum()"
   ]
  },
  {
   "cell_type": "code",
   "execution_count": 7,
   "metadata": {
    "colab": {
     "base_uri": "https://localhost:8080/",
     "height": 1000
    },
    "id": "1l48_Dm1IOum",
    "outputId": "cb6bf742-d733-4f29-966b-ea736a8a1b21",
    "scrolled": true
   },
   "outputs": [
    {
     "data": {
      "image/png": "[encoded data removed]",
      "text/plain": [
       "<Figure size 1500x1500 with 9 Axes>"
      ]
     },
     "metadata": {},
     "output_type": "display_data"
    }
   ],
   "source": [
    "# Shows Density\n",
    "p = df1.hist(figsize = (15,15))"
   ]
  },
  {
   "cell_type": "code",
   "execution_count": 8,
   "metadata": {
    "id": "ZMHrq-1cIOmv"
   },
   "outputs": [
    {
     "name": "stderr",
     "output_type": "stream",
     "text": [
      "C:\\Users\\PC\\AppData\\Local\\Temp\\ipykernel_10516\\233249688.py:1: FutureWarning: A value is trying to be set on a copy of a DataFrame or Series through chained assignment using an inplace method.\n",
      "The behavior will change in pandas 3.0. This inplace method will never work because the intermediate object on which we are setting values always behaves as a copy.\n",
      "\n",
      "For example, when doing 'df[col].method(value, inplace=True)', try using 'df.method({col: value}, inplace=True)' or df[col] = df[col].method(value) instead, to perform the operation inplace on the original object.\n",
      "\n",
      "\n",
      "  df1['Glucose'].fillna(df1['Glucose'].mean(),inplace=True)\n",
      "C:\\Users\\PC\\AppData\\Local\\Temp\\ipykernel_10516\\233249688.py:2: FutureWarning: A value is trying to be set on a copy of a DataFrame or Series through chained assignment using an inplace method.\n",
      "The behavior will change in pandas 3.0. This inplace method will never work because the intermediate object on which we are setting values always behaves as a copy.\n",
      "\n",
      "For example, when doing 'df[col].method(value, inplace=True)', try using 'df.method({col: value}, inplace=True)' or df[col] = df[col].method(value) instead, to perform the operation inplace on the original object.\n",
      "\n",
      "\n",
      "  df1['BloodPressure'].fillna(df1['BloodPressure'].mean(),inplace=True)\n",
      "C:\\Users\\PC\\AppData\\Local\\Temp\\ipykernel_10516\\233249688.py:3: FutureWarning: A value is trying to be set on a copy of a DataFrame or Series through chained assignment using an inplace method.\n",
      "The behavior will change in pandas 3.0. This inplace method will never work because the intermediate object on which we are setting values always behaves as a copy.\n",
      "\n",
      "For example, when doing 'df[col].method(value, inplace=True)', try using 'df.method({col: value}, inplace=True)' or df[col] = df[col].method(value) instead, to perform the operation inplace on the original object.\n",
      "\n",
      "\n",
      "  df1['SkinThickness'].fillna(df1['SkinThickness'].median(),inplace=True)\n",
      "C:\\Users\\PC\\AppData\\Local\\Temp\\ipykernel_10516\\233249688.py:4: FutureWarning: A value is trying to be set on a copy of a DataFrame or Series through chained assignment using an inplace method.\n",
      "The behavior will change in pandas 3.0. This inplace method will never work because the intermediate object on which we are setting values always behaves as a copy.\n",
      "\n",
      "For example, when doing 'df[col].method(value, inplace=True)', try using 'df.method({col: value}, inplace=True)' or df[col] = df[col].method(value) instead, to perform the operation inplace on the original object.\n",
      "\n",
      "\n",
      "  df1['Insulin'].fillna(df1['Insulin'].median(),inplace=True)\n",
      "C:\\Users\\PC\\AppData\\Local\\Temp\\ipykernel_10516\\233249688.py:5: FutureWarning: A value is trying to be set on a copy of a DataFrame or Series through chained assignment using an inplace method.\n",
      "The behavior will change in pandas 3.0. This inplace method will never work because the intermediate object on which we are setting values always behaves as a copy.\n",
      "\n",
      "For example, when doing 'df[col].method(value, inplace=True)', try using 'df.method({col: value}, inplace=True)' or df[col] = df[col].method(value) instead, to perform the operation inplace on the original object.\n",
      "\n",
      "\n",
      "  df1['BMI'].fillna(df1['BMI'].median(),inplace=True)\n"
     ]
    }
   ],
   "source": [
    "df1['Glucose'].fillna(df1['Glucose'].mean(),inplace=True)\n",
    "df1['BloodPressure'].fillna(df1['BloodPressure'].mean(),inplace=True)\n",
    "df1['SkinThickness'].fillna(df1['SkinThickness'].median(),inplace=True)\n",
    "df1['Insulin'].fillna(df1['Insulin'].median(),inplace=True)\n",
    "df1['BMI'].fillna(df1['BMI'].median(),inplace=True)"
   ]
  },
  {
   "cell_type": "code",
   "execution_count": 9,
   "metadata": {
    "colab": {
     "base_uri": "https://localhost:8080/",
     "height": 853
    },
    "id": "_AqhjsRULJ_k",
    "outputId": "4445169f-089a-41ee-fba0-8ba79ed3ffa3"
   },
   "outputs": [
    {
     "data": {
      "image/png": "[encoded data removed]",
      "text/plain": [
       "<Figure size 1000x1000 with 9 Axes>"
      ]
     },
     "metadata": {},
     "output_type": "display_data"
    }
   ],
   "source": [
    "p = df1.hist(figsize=(10,10))"
   ]
  },
  {
   "cell_type": "code",
   "execution_count": 10,
   "metadata": {
    "colab": {
     "base_uri": "https://localhost:8080/",
     "height": 619
    },
    "id": "c0WrAvRQLKGK",
    "outputId": "d3f0305e-ef45-4a79-ad69-509c6ea42412"
   },
   "outputs": [
    {
     "data": {
      "image/png": "[encoded data removed]",
      "text/plain": [
       "<Figure size 700x700 with 1 Axes>"
      ]
     },
     "metadata": {},
     "output_type": "display_data"
    }
   ],
   "source": [
    "plt.figure(figsize=(7,7))\n",
    "\n",
    "ax = sns.countplot(x='Outcome',data=df1)\n",
    "\n",
    "for bars in ax.containers:\n",
    "  ax.bar_label(bars)\n",
    "\n",
    "  plt.xlabel('Diabetes')\n",
    "  plt.ylabel('Count')"
   ]
  },
  {
   "cell_type": "code",
   "execution_count": 11,
   "metadata": {
    "colab": {
     "base_uri": "https://localhost:8080/",
     "height": 619
    },
    "id": "zaqkmFAaPlXl",
    "outputId": "396385ae-7000-48c1-f370-80ae82957e2b"
   },
   "outputs": [
    {
     "data": {
      "image/png": "[encoded data removed]",
      "text/plain": [
       "<Figure size 700x700 with 1 Axes>"
      ]
     },
     "metadata": {},
     "output_type": "display_data"
    }
   ],
   "source": [
    "plt.figure(figsize=(7,7))\n",
    "\n",
    "ax = sns.countplot(x='Pregnancies',data=df1)\n",
    "\n",
    "for bars in ax.containers:\n",
    "  ax.bar_label(bars)\n",
    "\n",
    "  plt.xlabel('Has Diabetes')\n",
    "  plt.ylabel('Count')"
   ]
  },
  {
   "cell_type": "code",
   "execution_count": null,
   "metadata": {
    "colab": {
     "base_uri": "https://localhost:8080/",
     "height": 1000
    },
    "id": "nhFI-I82QTUq",
    "outputId": "f071dffd-1fbb-4432-b3b0-9ef29b7ad67b"
   },
   "outputs": [],
   "source": [
    "plt.figure(figsize=(20,20))\n",
    "\n",
    "ax = sns.countplot(x='Insulin',data=df1)\n",
    "\n",
    "for bars in ax.containers:\n",
    "  ax.bar_label(bars)\n",
    "\n",
    "  plt.xlabel('Has Diabetes')\n",
    "  plt.ylabel('Count')"
   ]
  },
  {
   "cell_type": "code",
   "execution_count": null,
   "metadata": {
    "colab": {
     "base_uri": "https://localhost:8080/",
     "height": 735
    },
    "id": "QeH0ixDEQ04q",
    "outputId": "7289d516-7f8a-41d8-a51b-de7213e90564"
   },
   "outputs": [],
   "source": [
    "plt.figure(figsize=(9,8))\n",
    "sns.boxplot(data=df1,x='Outcome',y='Insulin',color='Red')\n",
    "plt.title('Insulin vs Outcome')"
   ]
  },
  {
   "cell_type": "code",
   "execution_count": null,
   "metadata": {
    "colab": {
     "base_uri": "https://localhost:8080/",
     "height": 735
    },
    "id": "6JYPGJbYRnYg",
    "outputId": "c7ce00c0-50b9-4f1e-9432-1a4b12533a80"
   },
   "outputs": [],
   "source": [
    "plt.figure(figsize=(9,8))\n",
    "sns.boxplot(data=df1,x='Outcome',y='Age',color='Red')\n",
    "plt.title('Age vs Outcome')"
   ]
  },
  {
   "cell_type": "code",
   "execution_count": null,
   "metadata": {
    "colab": {
     "base_uri": "https://localhost:8080/",
     "height": 735
    },
    "id": "FPuVa1vmSn1Q",
    "outputId": "9114b553-4318-41a2-fc46-b5c962e13998"
   },
   "outputs": [],
   "source": [
    "plt.figure(figsize=(9,8))\n",
    "sns.boxplot(data=df1,x='Outcome',y='Pregnancies',color='Red')\n",
    "plt.title('Pregnancies vs Outcome')"
   ]
  },
  {
   "cell_type": "code",
   "execution_count": null,
   "metadata": {
    "colab": {
     "base_uri": "https://localhost:8080/",
     "height": 735
    },
    "id": "OrO3UQ31TG_e",
    "outputId": "a4371720-0b02-4c74-92ad-59cbea425e4b"
   },
   "outputs": [],
   "source": [
    "plt.figure(figsize=(9,8))\n",
    "sns.boxplot(data=df1,x='Outcome',y='Age',color='Red')\n",
    "plt.title('Age vs Outcome')"
   ]
  },
  {
   "cell_type": "code",
   "execution_count": null,
   "metadata": {
    "colab": {
     "base_uri": "https://localhost:8080/",
     "height": 735
    },
    "id": "ywk0KkONTHC3",
    "outputId": "42a92b57-9138-4c69-e05d-67ca85b5babd"
   },
   "outputs": [],
   "source": [
    "plt.figure(figsize=(9,8))\n",
    "sns.boxplot(data=df1,x='Outcome',y='Glucose',color='Red')\n",
    "plt.title('Glucose vs Outcome')"
   ]
  },
  {
   "cell_type": "code",
   "execution_count": null,
   "metadata": {
    "colab": {
     "base_uri": "https://localhost:8080/",
     "height": 735
    },
    "id": "smG-VYPgTHGW",
    "outputId": "9cae867c-c49b-4674-9c49-b252d34bdddd"
   },
   "outputs": [],
   "source": [
    "plt.figure(figsize=(9,8))\n",
    "sns.boxplot(data=df1,x='Outcome',y='BloodPressure',color='Red')\n",
    "plt.title('Age vs Outcome')"
   ]
  },
  {
   "cell_type": "code",
   "execution_count": null,
   "metadata": {
    "colab": {
     "base_uri": "https://localhost:8080/",
     "height": 735
    },
    "id": "ngTseKpfTHK1",
    "outputId": "bb8c01e6-c154-48d3-8632-6b0dc1cd4be8"
   },
   "outputs": [],
   "source": [
    "plt.figure(figsize=(9,8))\n",
    "sns.boxplot(data=df1,x='Outcome',y='SkinThickness',color='Red')\n",
    "plt.title('SkinThickness vs Outcome')"
   ]
  },
  {
   "cell_type": "code",
   "execution_count": null,
   "metadata": {
    "colab": {
     "base_uri": "https://localhost:8080/",
     "height": 735
    },
    "id": "RYmek8EbTiGF",
    "outputId": "dc536495-220c-4df2-a5ee-b16c64da482a"
   },
   "outputs": [],
   "source": [
    "plt.figure(figsize=(9,8))\n",
    "sns.boxplot(data=df1,x='Outcome',y='DiabetesPedigreeFunction',color='Red')\n",
    "plt.title('DiabetesPedigreeFunction vs Outcome')"
   ]
  },
  {
   "cell_type": "code",
   "execution_count": null,
   "metadata": {
    "colab": {
     "base_uri": "https://localhost:8080/",
     "height": 735
    },
    "id": "rcsfpZEsTiJs",
    "outputId": "b6e418ca-a182-430a-eb14-5df8025c10dd"
   },
   "outputs": [],
   "source": [
    "plt.figure(figsize=(9,8))\n",
    "sns.boxplot(data=df1,x='Outcome',y='BMI',color='Red')\n",
    "plt.title('BMI vs Outcome')"
   ]
  },
  {
   "cell_type": "code",
   "execution_count": null,
   "metadata": {
    "colab": {
     "base_uri": "https://localhost:8080/"
    },
    "id": "ch76IB7jTiNc",
    "outputId": "7557f8d3-f3bd-46a4-e132-fff29d733c26"
   },
   "outputs": [],
   "source": [
    "df1.info()"
   ]
  },
  {
   "cell_type": "code",
   "execution_count": null,
   "metadata": {
    "colab": {
     "base_uri": "https://localhost:8080/"
    },
    "id": "2C4QitNwTiRQ",
    "outputId": "2c129f43-060c-462c-f86b-acd0be6da721"
   },
   "outputs": [],
   "source": [
    "df.columns.tolist()"
   ]
  },
  {
   "cell_type": "code",
   "execution_count": null,
   "metadata": {
    "colab": {
     "base_uri": "https://localhost:8080/"
    },
    "id": "m2WhAIqYUGvN",
    "outputId": "44ea2118-be1f-4d93-de1a-70f33dc2ba10"
   },
   "outputs": [],
   "source": [
    "# £ Model Building\n",
    "\n",
    "from sklearn.model_selection import train_test_split\n",
    "\n",
    "x = df1.drop(columns='Outcome')\n",
    "y = df1['Outcome']\n",
    "\n",
    "x_train,x_test,y_train,y_test = train_test_split(x,y,test_size = 0.20,random_state=0)\n",
    "print('x_train size: {}, x_test size: {}'.format(x_train.shape,x_test.shape))"
   ]
  },
  {
   "cell_type": "code",
   "execution_count": null,
   "metadata": {
    "colab": {
     "base_uri": "https://localhost:8080/",
     "height": 424
    },
    "id": "Z1VcySw0UG0M",
    "outputId": "21d4ad5c-d4b9-4c5b-b198-4761a7c7e83b"
   },
   "outputs": [],
   "source": [
    "x"
   ]
  },
  {
   "cell_type": "code",
   "execution_count": null,
   "metadata": {
    "colab": {
     "base_uri": "https://localhost:8080/"
    },
    "id": "fOQyi2ZyUG8j",
    "outputId": "f6e49bc6-372b-47b3-f46c-1ea9a78eabcb"
   },
   "outputs": [],
   "source": [
    "y"
   ]
  },
  {
   "cell_type": "code",
   "execution_count": null,
   "metadata": {
    "id": "7eNmqH6cXKc3"
   },
   "outputs": [],
   "source": [
    "from sklearn.preprocessing import StandardScaler\n",
    "sc=StandardScaler()\n",
    "x_train=sc.fit_transform(x_train)#fit scaler on training data #x_scaled=(X-mean(X))/std(X)\n",
    "x_test=sc.transform(x_test)"
   ]
  },
  {
   "cell_type": "code",
   "execution_count": null,
   "metadata": {
    "colab": {
     "base_uri": "https://localhost:8080/"
    },
    "id": "PLNjlQlIXdBe",
    "outputId": "2311c6a4-9268-4b4c-8879-9d908806c515"
   },
   "outputs": [],
   "source": [
    "x_train"
   ]
  },
  {
   "cell_type": "code",
   "execution_count": null,
   "metadata": {
    "colab": {
     "base_uri": "https://localhost:8080/"
    },
    "id": "k6c9ifKfYxt2",
    "outputId": "2b37c730-9e0c-496f-d8c2-f48eceecbfdf"
   },
   "outputs": [],
   "source": [
    "y_train"
   ]
  },
  {
   "cell_type": "code",
   "execution_count": null,
   "metadata": {
    "colab": {
     "base_uri": "https://localhost:8080/"
    },
    "id": "bEtAnx6FY5Hr",
    "outputId": "11daab13-b420-4fec-dcf4-72d894869a46"
   },
   "outputs": [],
   "source": [
    "y_test"
   ]
  },
  {
   "cell_type": "code",
   "execution_count": null,
   "metadata": {
    "id": "kZ3gHEkVXfg_"
   },
   "outputs": [],
   "source": [
    "from sklearn.model_selection import ShuffleSplit\n",
    "from sklearn.linear_model import LogisticRegression\n",
    "from sklearn.tree import DecisionTreeClassifier\n",
    "from sklearn.ensemble import RandomForestRegressor\n",
    "from sklearn.svm import SVC\n",
    "from sklearn.metrics import accuracy_score, precision_score, recall_score, f1_score, confusion_matrix, classification_report"
   ]
  },
  {
   "cell_type": "code",
   "execution_count": null,
   "metadata": {
    "colab": {
     "base_uri": "https://localhost:8080/"
    },
    "id": "KJa9teF0bHKh",
    "outputId": "2b1ec2bc-fad6-4337-9afe-4061d885de55"
   },
   "outputs": [],
   "source": [
    "# Initialize the Decision Tree Classifier\n",
    "model_dt = DecisionTreeClassifier(random_state=42)\n",
    "\n",
    "#  Train the model\n",
    "model_dt.fit(x_train,y_train)\n",
    "#  Make predictions\n",
    "y_pred_dt = model_dt.predict(x_test)\n",
    "# Calculate performance metrics\n",
    "accuracy_dt = accuracy_score(y_test,y_pred_dt)\n",
    "precision_dt = precision_score(y_test, y_pred_dt)\n",
    "recall_dt = recall_score(y_test,y_pred_dt)\n",
    "f1_dt = f1_score(y_test,y_pred_dt)\n",
    "conf_matrix_dt = confusion_matrix(y_test,y_pred_dt)\n",
    "class_report_dt = classification_report(y_test,y_pred_dt)\n",
    "print(\"Decision Tree Classifier:\")\n",
    "print(\"Accuracy:\", accuracy_dt)\n",
    "print(\"Precision:\", precision_dt)\n",
    "print(\"Recall:\", recall_dt)\n",
    "print(\"F1 Score:\", f1_dt)\n",
    "print(\"Confusion Matrix:\\n\", conf_matrix_dt)\n",
    "print(\"Classification Report:\\n\", class_report_dt)"
   ]
  },
  {
   "cell_type": "code",
   "execution_count": null,
   "metadata": {
    "colab": {
     "base_uri": "https://localhost:8080/"
    },
    "id": "dUIzOfsVa7Fe",
    "outputId": "8087b057-9c29-4cd4-cdf5-8cf4b84a0c4e"
   },
   "outputs": [],
   "source": [
    "from sklearn.ensemble import RandomForestClassifier\n",
    "\n",
    "# Initialize the Random Forest Classifier\n",
    "model_rf = RandomForestClassifier(n_estimators=100, random_state=42)\n",
    "\n",
    "# Train the model\n",
    "model_rf.fit(x_train, y_train)\n",
    "\n",
    "# Make predictions\n",
    "y_pred_rf = model_rf.predict(x_test)\n",
    "\n",
    "# Calculate performance metrics\n",
    "accuracy_rf = accuracy_score(y_test, y_pred_rf)\n",
    "precision_rf = precision_score(y_test, y_pred_rf)\n",
    "recall_rf = recall_score(y_test, y_pred_rf)\n",
    "f1_rf = f1_score(y_test, y_pred_rf)\n",
    "conf_matrix_rf = confusion_matrix(y_test, y_pred_rf)\n",
    "class_report_rf = classification_report(y_test, y_pred_rf)\n",
    "\n",
    "# Print the performance metrics for Random Forest\n",
    "print('Random Forest Metrics:')\n",
    "print('Accuracy:', round(accuracy_rf, 2))\n",
    "print('Precision:', round(precision_rf, 2))\n",
    "print('Recall:', round(recall_rf, 2))\n",
    "print('F1-Score:', round(f1_rf, 2))\n",
    "print('Confusion Matrix:\\n', conf_matrix_rf)\n",
    "print('Classification Report:\\n', class_report_rf)"
   ]
  },
  {
   "cell_type": "code",
   "execution_count": null,
   "metadata": {
    "colab": {
     "base_uri": "https://localhost:8080/"
    },
    "id": "ITF6wDoRbK6T",
    "outputId": "91960daf-1367-4cce-8ceb-56b870144a24"
   },
   "outputs": [],
   "source": [
    "from sklearn.svm import SVC\n",
    "\n",
    "# Initialize the SVC\n",
    "model_svm = SVC(random_state=42)\n",
    "\n",
    "# Train the model\n",
    "model_svm.fit(x_train, y_train)\n",
    "\n",
    "# Make predictions\n",
    "y_pred_svm = model_svm.predict(x_test)\n",
    "\n",
    "# Calculate performance metrics\n",
    "accuracy_svm = accuracy_score(y_test, y_pred_svm)\n",
    "precision_svm = precision_score(y_test, y_pred_svm)\n",
    "recall_svm = recall_score(y_test, y_pred_svm)\n",
    "f1_svm = f1_score(y_test, y_pred_svm)\n",
    "conf_matrix_svm = confusion_matrix(y_test, y_pred_svm)\n",
    "class_report_svm = classification_report(y_test, y_pred_svm)\n",
    "\n",
    "# Print the performance metrics for SVM\n",
    "print('SVM Metrics:')\n",
    "print('Accuracy:', round(accuracy_svm, 2))\n",
    "print('Precision:', round(precision_svm, 2))\n",
    "print('Recall:', round(recall_svm, 2))\n",
    "print('F1-Score:', round(f1_svm, 2))\n",
    "print('Confusion Matrix:\\n', conf_matrix_svm)\n",
    "print('Classification Report:\\n', class_report_svm)"
   ]
  },
  {
   "cell_type": "code",
   "execution_count": null,
   "metadata": {
    "colab": {
     "base_uri": "https://localhost:8080/"
    },
    "id": "RL8TaxPrdVYZ",
    "outputId": "d77ae519-6a47-4b61-94ef-1c1fbaa7f5d6"
   },
   "outputs": [],
   "source": [
    "from sklearn.model_selection import ShuffleSplit, cross_val_score\n",
    "\n",
    "model_dt = DecisionTreeClassifier(random_state= 42)\n",
    "ssplit = ShuffleSplit(n_splits=10,test_size=0.30)\n",
    "\n",
    "results_dt = cross_val_score(model_dt,x,y,cv = ssplit)\n",
    "print('Decision Tree Cross-Validation Results', results_dt)\n",
    "print('Mean Accuracy: ', np.mean(results_dt))"
   ]
  },
  {
   "cell_type": "code",
   "execution_count": null,
   "metadata": {
    "colab": {
     "base_uri": "https://localhost:8080/"
    },
    "id": "tBmmNvNRdVce",
    "outputId": "9536ad67-846c-4f90-8c44-d8ef7dca5e40"
   },
   "outputs": [],
   "source": [
    "model_rf = RandomForestClassifier(random_state=42)\n",
    "ssplit = ShuffleSplit(n_splits = 10,test_size = 0.30)\n",
    "\n",
    "results_dt = cross_val_score(model_dt,x,y,cv = ssplit)\n",
    "print('Random Forest Cross-Validation Results', results_dt)\n",
    "print('Mean Accuracy: ', np.mean(results_dt))"
   ]
  },
  {
   "cell_type": "code",
   "execution_count": null,
   "metadata": {
    "colab": {
     "base_uri": "https://localhost:8080/"
    },
    "id": "jLYH28fwjDMx",
    "outputId": "53bf3b45-6e7d-4a0b-b6d6-0f46f9542b33"
   },
   "outputs": [],
   "source": [
    "model = SVC(random_state=42)\n",
    "ssplit=ShuffleSplit(n_splits=10,test_size=0.30)\n",
    "from sklearn.model_selection import cross_val_score\n",
    "results=cross_val_score(model,x,y,cv=ssplit)#perform cross_validation\n",
    "print(results)\n",
    "print(\"/n Mean Cross validation Accuracy:\",np.mean(results))\n",
    "print('Mean Accuracy:',np.mean(results))"
   ]
  },
  {
   "cell_type": "code",
   "execution_count": null,
   "metadata": {
    "id": "T96jAWqxhKkE"
   },
   "outputs": [],
   "source": [
    "# Predictions"
   ]
  },
  {
   "cell_type": "code",
   "execution_count": null,
   "metadata": {
    "colab": {
     "base_uri": "https://localhost:8080/"
    },
    "id": "o9L1PfeLhKoj",
    "outputId": "1db5e43d-e0aa-42c5-e8f3-de029994f6c5"
   },
   "outputs": [],
   "source": [
    "import pickle\n",
    "from sklearn.ensemble import RandomForestClassifier\n",
    "model_dt = RandomForestClassifier()\n",
    "model_dt.fit(x_train,y_train)\n",
    "with open('diabetes_model.pkl','wb') as file:\n",
    "  pickle.dump(model_dt,file)\n",
    "print('Model saved successfully')"
   ]
  },
  {
   "cell_type": "code",
   "execution_count": null,
   "metadata": {
    "id": "scrfcDXphKp6"
   },
   "outputs": [],
   "source": [
    "with open('sc.pkl','wb') as scaler_file:\n",
    "  pickle.dump(sc,scaler_file)"
   ]
  },
  {
   "cell_type": "code",
   "execution_count": null,
   "metadata": {
    "colab": {
     "base_uri": "https://localhost:8080/",
     "height": 332
    },
    "id": "-zP0csWCkRNP",
    "outputId": "dba37478-3f8b-49b6-8b34-637ab8d97611"
   },
   "outputs": [],
   "source": [
    "# import tkinter as tk\n",
    "# import pickle\n",
    "# import numpy as np\n",
    "\n",
    "# # Load the trained Random Forest model\n",
    "# with open('C:/Users/PC/diabetes_model.pkl', 'rb') as model_file: #rb read in binary mode\n",
    "#     model = pickle.load(model_file)\n",
    "\n",
    "# # Load the scaler used during training\n",
    "# with open('C:/Users/PC/sc.pkl', 'rb') as scaler_file:\n",
    "#     scaler = pickle.load(scaler_file)\n",
    "\n",
    "# # Create Tkinter GUI\n",
    "# root = tk.Tk()\n",
    "# root.title(\"Diabetes Prediction\")\n",
    "\n",
    "# # Function to get prediction from input fields\n",
    "# def get_prediction():\n",
    "#     # Get input values from entry fields\n",
    "#     Pregnancies = float(pregnancies_entry.get())\n",
    "#     Glucose = float(glucose_entry.get())\n",
    "#     BloodPressure = float(blood_pressure_entry.get())\n",
    "#     Skinthickness = float(skin_thickness_entry.get())\n",
    "#     Insulin = float(insulin_entry.get())\n",
    "#     Bmi = float(bmi_entry.get())\n",
    "#     Dpf = float(dpf_entry.get())\n",
    "#     Age = float(age_entry.get())\n",
    "\n",
    "#     # Create a numpy array with input values\n",
    "#     input_data = np.array([[Pregnancies,Glucose,BloodPressure,Skinthickness,Insulin,Bmi,Dpf,Age]])\n",
    "\n",
    "#     # Normalize the input data using the scaler\n",
    "#     input_data_scaled = scaler.transform(input_data)\n",
    "\n",
    "#     # Predict using the loaded model\n",
    "#     prediction = model.predict(input_data_scaled)\n",
    "\n",
    "#     # Display prediction result\n",
    "#     if prediction[0] == 1:\n",
    "#         result_label.config(text=\"Prediction: You have Diabetes.\")\n",
    "#     else:\n",
    "#         result_label.config(text=\"Prediction: You do not have Diabetes.\")\n",
    "\n",
    "# # Create labels and entry fields for input features\n",
    "# tk.Label(root, text=\"Pregnancies\").grid(row=0, column=0)\n",
    "# tk.Label(root, text=\"Glucose\").grid(row=1, column=0)\n",
    "# tk.Label(root, text=\"Blood Pressure\").grid(row=2, column=0)\n",
    "# tk.Label(root, text=\"Skin Thickness\").grid(row=3, column=0)\n",
    "# tk.Label(root, text=\"Insulin\").grid(row=4, column=0)\n",
    "# tk.Label(root, text=\"BMI\").grid(row=5, column=0)\n",
    "# tk.Label(root, text=\"DPF\").grid(row=6, column=0)\n",
    "# tk.Label(root, text=\"Age\").grid(row=7, column=0)\n",
    "\n",
    "# pregnancies_entry = tk.Entry(root)\n",
    "# glucose_entry = tk.Entry(root)\n",
    "# blood_pressure_entry = tk.Entry(root)\n",
    "# skin_thickness_entry = tk.Entry(root)\n",
    "# insulin_entry = tk.Entry(root)\n",
    "# bmi_entry = tk.Entry(root)\n",
    "# dpf_entry = tk.Entry(root)\n",
    "# age_entry = tk.Entry(root)\n",
    "\n",
    "# pregnancies_entry.grid(row=0, column=1)\n",
    "# glucose_entry.grid(row=1, column=1)\n",
    "# blood_pressure_entry.grid(row=2, column=1)\n",
    "# skin_thickness_entry.grid(row=3, column=1)\n",
    "# insulin_entry.grid(row=4, column=1)\n",
    "# bmi_entry.grid(row=5, column=1)\n",
    "# dpf_entry.grid(row=6, column=1)\n",
    "# age_entry.grid(row=7, column=1)\n",
    "\n",
    "# # Button to trigger prediction\n",
    "# predict_button = tk.Button(root, text=\"Predict\", command=get_prediction)\n",
    "# predict_button.grid(row=8, columnspan=2)\n",
    "\n",
    "# # Label to display prediction result\n",
    "# result_label = tk.Label(root, text=\"\")\n",
    "# result_label.grid(row=9, columnspan=2)\n",
    "\n",
    "# root.mainloop()"
   ]
  },
  {
   "cell_type": "code",
   "execution_count": null,
   "metadata": {
    "id": "glmZ78R0kRW7"
   },
   "outputs": [],
   "source": [
    "# import tkinter as tk\n",
    "# import pickle\n",
    "# import numpy as np\n",
    "\n",
    "# # Load the trained XGBoost model\n",
    "# with open('hr.pkl', 'rb') as model_file:\n",
    "#     model = pickle.load(model_file)\n",
    "\n",
    "# # Load the scaler used during training\n",
    "# with open('schr.pkl', 'rb') as scaler_file:\n",
    "#     scaler = pickle.load(scaler_file)\n",
    "\n",
    "# # Create Tkinter GUI\n",
    "# root = tk.Tk()\n",
    "# root.title(\"Salary Prediction\")\n",
    "\n",
    "# # Function to get prediction from input fields\n",
    "# def get_prediction():\n",
    "#     # Get input values from entry fields\n",
    "#     age = float(age_entry.get())\n",
    "#     experience = float(experience_entry.get())\n",
    "#     education = int(education_entry.get())\n",
    "\n",
    "#     # Create a numpy array with input values\n",
    "#     input_data = np.array([[age, experience, education]])\n",
    "\n",
    "#     # Normalize the input data using the scaler\n",
    "#     input_data_scaled = scaler.transform(input_data)\n",
    "\n",
    "#     # Predict using the loaded model\n",
    "#     prediction = model.predict(input_data_scaled)\n",
    "\n",
    "#     # Display prediction result\n",
    "#     result_label.config(text=f\"Predicted Salary: ${prediction[0]:,.2f}\")\n",
    "\n",
    "# # Create labels and entry fields for input features\n",
    "# tk.Label(root, text=\"Age\").grid(row=0, column=0)\n",
    "# tk.Label(root, text=\"Experience (Months)\").grid(row=1, column=0)\n",
    "# tk.Label(root, text=\"Education Level (0-3)\").grid(row=2, column=0)\n",
    "\n",
    "# age_entry = tk.Entry(root)\n",
    "# experience_entry = tk.Entry(root)\n",
    "# education_entry = tk.Entry(root)\n",
    "\n",
    "# age_entry.grid(row=0, column=1)\n",
    "# experience_entry.grid(row=1, column=1)\n",
    "# education_entry.grid(row=2, column=1)\n",
    "\n",
    "# # Button to trigger prediction\n",
    "# predict_button = tk.Button(root, text=\"Predict\", command=get_prediction)\n",
    "# predict_button.grid(row=3, columnspan=2)\n",
    "\n",
    "# # Label to display prediction result\n",
    "# result_label = tk.Label(root, text=\"\")\n",
    "# result_label.grid(row=4, columnspan=2)\n",
    "\n",
    "# root.mainloop()"
   ]
  },
  {
   "cell_type": "code",
   "execution_count": null,
   "metadata": {},
   "outputs": [],
   "source": [
    "# streamlit_code = \"\"\"\n",
    "# import streamlit as st\n",
    "# import pickle\n",
    "# import numpy as np\n",
    "\n",
    "# # Load the trained RandomForest model and scaler\n",
    "# with open('diabetes_model.pkl', 'rb') as model_file:\n",
    "#     model = pickle.load(model_file)\n",
    "\n",
    "# with open('sc.pkl', 'rb') as scaler_file:\n",
    "#     scaler = pickle.load(scaler_file)\n",
    "\n",
    "# # Create the web app\n",
    "# st.title('Diabetes Prediction App')\n",
    "\n",
    "# # Input fields\n",
    "# Pregnancies = st.number_input('Pregnancies', min_value=0.0, max_value=20.0, value=0.0, step=1.0)\n",
    "# Glucose = st.number_input('Glucose', min_value=0.0, max_value=400.0, value=30.0, step=1.0)\n",
    "# BloodPressure = st.number_input('BloodPressure', min_value=0.0, max_value=200.0, value=0.0, step=1.0)\n",
    "# SkinThickness = st.number_input('SkinThickness', min_value=0.0, max_value=200.0, value=0.0, step=1.0)\n",
    "# Insulin = st.number_input('Insulin', min_value=0.0, max_value=700.0, value=0.0, step=1.0)\n",
    "# DiabetesPedigreeFunction = st.number_input('DiabetesPedigreeFunction', min_value=0.0, max_value=2.0, value=0.0, step=0.01)\n",
    "# BMI = st.number_input('BMI', min_value=0.0, max_value=150.0, value=20.0, step=0.1)\n",
    "# Age = st.number_input('Age', min_value=15.0, max_value=100.0, value=25.0, step=1.0)\n",
    "\n",
    "# # Prepare the feature vector\n",
    "# features = np.array([[Pregnancies, Glucose, BloodPressure, SkinThickness, Insulin, BMI, DiabetesPedigreeFunction, Age]], dtype=np.float64)\n",
    "\n",
    "# # Scale the features\n",
    "# features_scaled = scaler.transform(features)\n",
    "\n",
    "# # Predict Diabetes\n",
    "# predicted_Diabetes = model.predict(features_scaled)\n",
    "\n",
    "# prediction_label = \"Yes\" if predicted_Diabetes[0] == 1 else \"No\"\n",
    "# st.write(f'Predicted Diabetes: {prediction_label}')\n",
    "# \"\"\"\n",
    "\n",
    "# # Saving to file\n",
    "# import os\n",
    "\n",
    "# file_path = os.path.join(os.getcwd(), 'diabetesapp.py')\n",
    "\n",
    "# try:\n",
    "#     with open(file_path, 'w') as file:\n",
    "#         file.write(streamlit_code)\n",
    "#     print(f\"File '{file_path}' has been saved.\")\n",
    "# except Exception as e:\n",
    "#     print(f\"Error saving file: {e}\")"
   ]
  },
  {
   "cell_type": "code",
   "execution_count": null,
   "metadata": {},
   "outputs": [],
   "source": [
    "# streamlit_code=\"\"\"\n",
    "# import streamlit as st\n",
    "# #title\n",
    "# st.title(\"Diabetes classification!!\")\n",
    "# #text Input 2\n",
    "# #save the input text in the variabla name'\n",
    "# #first argument shows the title of the text input box\n",
    "# #second argument displays a default text inside the text input area\n",
    "# name=st.text_input(\"Amount of glucose\",\"Type here...\")\n",
    "# name=st.text_input(\"Amount of Insulin\",\"Type here...\")\n",
    "# name=st.text_input(\"BMI\",\"Type here...\")\n",
    "# name=st.text_input(\"BloodPressure\",\"Type here...\")\n",
    "# name=st.text_input(\"SkinThikness\",\"Type here...\")\n",
    "# status = st.radio(\"Pregnancies: \",('Yes','No'))\n",
    "\n",
    "# #conditional statement to print\n",
    "# #Male if male is selected else print female\n",
    "# # show the result using the success function\n",
    "\n",
    "# if(status == 'Yes'):\n",
    "#     st.success(\"Yes\")\n",
    "# else:\n",
    "#     st.success(\"No\")\n",
    "# #integer input3\n",
    "# age=st.number_input(\"Enter Your age\",min_value=0,max_value=120,step=1)\n",
    "# #display the name when the submit button is clicked\n",
    "# #.title() is used to get the input text string\n",
    "# if(st.button('submit')):\n",
    "#  result=name.title()\n",
    "#  st.success(result)\n",
    "\n",
    "\n",
    "# \"\"\"\n",
    "# #specify the file path where the hrapp.py file will be solved\n",
    "# file_path='dcapp.py'\n",
    "# #write the content to the file\n",
    "# with open(file_path,'w')as file:\n",
    "#     file.write(streamlit_code)\n",
    "#     print(f\"File'{file_path}'has been saved.\")"
   ]
  },
  {
   "cell_type": "code",
   "execution_count": null,
   "metadata": {},
   "outputs": [],
   "source": [
    "streamlit_code = \"\"\"\n",
    "import streamlit as st\n",
    "import pickle\n",
    "import numpy as np\n",
    "\n",
    "# Load the trained RandomForest model and scaler\n",
    "with open('diabetes_model.pkl', 'rb') as model_file:\n",
    "    model = pickle.load(model_file)\n",
    "\n",
    "with open('sc.pkl', 'rb') as scaler_file:\n",
    "    scaler = pickle.load(scaler_file)\n",
    "\n",
    "# Create the web app\n",
    "st.title('Diabetes Prediction App')\n",
    "\n",
    "# Input fields\n",
    "Pregnancies = st.number_input('Pregnancies', min_value=0.0, max_value=20.0, value=0.0, step=1.0)\n",
    "Glucose = st.number_input('Glucose', min_value=0.0, max_value=400.0, value=30.0, step=1.0)\n",
    "BloodPressure = st.number_input('BloodPressure', min_value=0.0, max_value=200.0, value=0.0, step=1.0)\n",
    "SkinThickness = st.number_input('SkinThickness', min_value=0.0, max_value=200.0, value=0.0, step=1.0)\n",
    "Insulin = st.number_input('Insulin', min_value=0.0, max_value=700.0, value=0.0, step=1.0)\n",
    "DiabetesPedigreeFunction = st.number_input('DiabetesPedigreeFunction', min_value=0.0, max_value=2.0, value=0.0, step=0.01)\n",
    "BMI = st.number_input('BMI', min_value=0.0, max_value=150.0, value=20.0, step=0.1)\n",
    "Age = st.number_input('Age', min_value=15.0, max_value=100.0, value=25.0, step=1.0)\n",
    "\n",
    "# Prepare the feature vector\n",
    "features = np.array([[Pregnancies, Glucose, BloodPressure, SkinThickness, Insulin, BMI, DiabetesPedigreeFunction, Age]], dtype=np.float64)\n",
    "\n",
    "# Scale the features\n",
    "features_scaled = scaler.transform(features)\n",
    "\n",
    "# Predict Diabetes\n",
    "predicted_Diabetes = model.predict(features_scaled)\n",
    "\n",
    "prediction_label = \"Yes\" if predicted_Diabetes[0] == 1 else \"No\"\n",
    "st.write(f'Predicted Diabetes: {prediction_label}')\n",
    "\"\"\"\n",
    "\n",
    "# Saving to file\n",
    "import os\n",
    "\n",
    "file_path = os.path.join(os.getcwd(), 'diabetesapp.py')\n",
    "\n",
    "try:\n",
    "    with open(file_path, 'w') as file:\n",
    "        file.write(streamlit_code)\n",
    "    print(f\"File '{file_path}' has been saved.\")\n",
    "except Exception as e:\n",
    "    print(f\"Error saving file: {e}\")"
   ]
  }
 ],
 "metadata": {
  "colab": {
   "provenance": []
  },
  "kernelspec": {
   "display_name": "Python 3 (ipykernel)",
   "language": "python",
   "name": "python3"
  },
  "language_info": {
   "codemirror_mode": {
    "name": "ipython",
    "version": 3
   },
   "file_extension": ".py",
   "mimetype": "text/x-python",
   "name": "python",
   "nbconvert_exporter": "python",
   "pygments_lexer": "ipython3",
   "version": "3.12.4"
  }
 },
 "nbformat": 4,
 "nbformat_minor": 4
}
